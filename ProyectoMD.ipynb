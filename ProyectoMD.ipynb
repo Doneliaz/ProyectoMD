{
 "cells": [
  {
   "cell_type": "markdown",
   "metadata": {},
   "source": [
    "# Proyecto: Automata de una maquina expendedora\n",
    "La Maquina Expendedora es una maquina ampliamente conocida, se puede encontrar en varios establecimientos , lo importante de esta es su funcionamiento ya que es un ejemplo perfecto para mostrar los elementos de la teoria de automatas , concretamente de los automatas finitos , ya que la maquina expendedora posee transiciones especificas de estados \n",
    "\n",
    "<img src=\"https://www.diasa.com.mx/wp-content/uploads/2021/10/Sensit-Combo-39-Diasa-400x400.png\"\n",
    "    style=\"display: block; margin-left: auto; margin-right: auto;\" />"
   ]
  },
  {
   "cell_type": "markdown",
   "metadata": {},
   "source": [
    "Lo primero que hay que definir es que un automata finito tiene un estado inicial, un estado final, y estados de transicion dentro de estos , la maquina expendedora posee una cantidad especifica de transiciones ya que en el estado inicial define a la maquina en espera , posteriormente el usuario marca el codigo del alimento o bebida por lo que su estado ahora es \"En espera del pago\" una vez el cliente inserta el pago , la maquina busca dentro de su indice el codigo solicitado y gira el resorte con lo que el articulo cae, posterior a eso la maquina procede a devolver el cambio"
   ]
  },
  {
   "cell_type": "markdown",
   "metadata": {},
   "source": [
    "## Crear el automata de la maquina\n",
    "Primero comenzaremos añadiendo las bibliotecas necesarias para correr el programa "
   ]
  },
  {
   "cell_type": "code",
   "execution_count": null,
   "metadata": {},
   "outputs": [],
   "source": [
    "import networkx as nx \n",
    "import matplotlib.pyplot as plt "
   ]
  },
  {
   "cell_type": "markdown",
   "metadata": {},
   "source": [
    "Posteriormente continuamos añadiendo las variables necesarias del automata"
   ]
  },
  {
   "cell_type": "code",
   "execution_count": null,
   "metadata": {},
   "outputs": [],
   "source": [
    "# Definir los estados y las transiciones del autómata\n",
    "states = ['EsperaDinero', 'EsperaSeleccion', 'Dispensando', 'DevuelveCambio', 'Fin']\n",
    "transitions = [\n",
    "    ('EsperaDinero', 'EsperaSeleccion', 'InsertarDinero'),\n",
    "    ('EsperaSeleccion', 'Dispensando', 'SeleccionarProducto'),\n",
    "    ('Dispensando', 'DevuelveCambio', 'DispensarProducto'),\n",
    "    ('DevuelveCambio', 'Fin', 'DevolverCambio'),\n",
    "    ('Fin', 'EsperaDinero', 'TerminarTransaccion')\n",
    "]"
   ]
  },
  {
   "cell_type": "markdown",
   "metadata": {},
   "source": [
    "Estos elementos nos ayudaran a mostrar el grafo de manera mas eficiente , continuamos creando un grafo dirigido que nos servira para ejemplificar el automata "
   ]
  },
  {
   "cell_type": "code",
   "execution_count": null,
   "metadata": {},
   "outputs": [],
   "source": [
    "# Crear un grafo dirigido\n",
    "G = nx.DiGraph()"
   ]
  },
  {
   "cell_type": "markdown",
   "metadata": {},
   "source": [
    "Continuamos estableciendo los elementos del automata en la biblioteca de networkx"
   ]
  },
  {
   "cell_type": "code",
   "execution_count": null,
   "metadata": {},
   "outputs": [],
   "source": [
    "# Añadir nodos (estados)\n",
    "for state in states:\n",
    "    G.add_node(state)\n",
    "\n",
    "# Añadir aristas (transiciones)\n",
    "for from_state, to_state, event in transitions:\n",
    "    G.add_edge(from_state, to_state, label=event)\n"
   ]
  },
  {
   "cell_type": "markdown",
   "metadata": {},
   "source": [
    "una vez declaradas las variables se procede a dibujar el grafo para que se muestre en la pantalla"
   ]
  },
  {
   "cell_type": "code",
   "execution_count": null,
   "metadata": {},
   "outputs": [],
   "source": [
    "# Dibujar el grafo\n",
    "plt.figure(figsize=(10, 8))\n",
    "nx.draw(G, pos, with_labels=True, node_size=3000, node_color='skyblue', font_size=10, font_weight='bold', arrows=True)\n",
    "nx.draw_networkx_edge_labels(G, pos, edge_labels={(from_state, to_state): event for from_state, to_state, event in transitions}, font_size=10, font_color='red')\n",
    "\n",
    "# Mostrar la gráfica\n",
    "plt.title('Autómata de una Máquina Expendedora')\n",
    "plt.show()"
   ]
  },
  {
   "cell_type": "markdown",
   "metadata": {},
   "source": [
    "## Conclusion \n",
    "la maquina expendedora es un automata interesante de explorar ya que parece ser un funcionamiento misterioso, sin embargo , al abstraer su funcionamiento podemos obtener un mecanismo bastante simple"
   ]
  },
  {
   "cell_type": "markdown",
   "metadata": {},
   "source": []
  }
 ],
 "metadata": {
  "kernelspec": {
   "display_name": "Python 3",
   "language": "python",
   "name": "python3"
  },
  "language_info": {
   "name": "python",
   "version": "3.12.4"
  }
 },
 "nbformat": 4,
 "nbformat_minor": 2
}
